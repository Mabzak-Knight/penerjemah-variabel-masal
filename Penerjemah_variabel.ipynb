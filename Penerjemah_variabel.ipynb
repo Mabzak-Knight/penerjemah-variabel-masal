{
  "nbformat": 4,
  "nbformat_minor": 0,
  "metadata": {
    "colab": {
      "provenance": [],
      "authorship_tag": "ABX9TyOI2BhZ98GYM9t+KdZj0W4A",
      "include_colab_link": true
    },
    "kernelspec": {
      "name": "python3",
      "display_name": "Python 3"
    },
    "language_info": {
      "name": "python"
    }
  },
  "cells": [
    {
      "cell_type": "markdown",
      "metadata": {
        "id": "view-in-github",
        "colab_type": "text"
      },
      "source": [
        "<a href=\"https://colab.research.google.com/github/Mabzak-Knight/penerjemah-variabel-masal/blob/main/Penerjemah_variabel.ipynb\" target=\"_parent\"><img src=\"https://colab.research.google.com/assets/colab-badge.svg\" alt=\"Open In Colab\"/></a>"
      ]
    },
    {
      "cell_type": "code",
      "source": [
        "!pip install googletrans==4.0.0-rc1\n",
        "!pip install tqdm\n",
        "!pip install json\n",
        "\n",
        "from googletrans import Translator\n",
        "from tqdm import tqdm\n",
        "\n",
        "import os\n",
        "import zipfile\n",
        "import shutil\n",
        "\n",
        "translator = Translator()"
      ],
      "metadata": {
        "id": "7giMj2dNagzW"
      },
      "execution_count": null,
      "outputs": []
    },
    {
      "cell_type": "code",
      "source": [
        "def hapus_folder(nama_folder):\n",
        "    try:\n",
        "        shutil.rmtree(nama_folder)\n",
        "        print(f\"Folder '{nama_folder}' berhasil dihapus.\")\n",
        "    except Exception as e:\n",
        "        print(f\"Terjadi kesalahan saat menghapus folder '{nama_folder}': {e}\")"
      ],
      "metadata": {
        "id": "-n_nXpB1__JT"
      },
      "execution_count": null,
      "outputs": []
    },
    {
      "cell_type": "code",
      "source": [
        "def ekstrak_zip(file_zip, direktori_ekstraksi):\n",
        "    with zipfile.ZipFile(file_zip, 'r') as zip_ref:\n",
        "        zip_ref.extractall(direktori_ekstraksi)\n",
        "\n",
        "def zip_folder(sumber_folder, nama_file_zip):\n",
        "    # Membuat objek ZipFile untuk menulis file zip\n",
        "    with zipfile.ZipFile(nama_file_zip, 'w', zipfile.ZIP_DEFLATED) as zipf:\n",
        "        for root, dirs, files in os.walk(sumber_folder):\n",
        "            for file in files:\n",
        "                # Mendapatkan path lengkap dari file\n",
        "                file_path = os.path.join(root, file)\n",
        "                # Mendapatkan nama file relatif terhadap sumber_folder\n",
        "                rel_path = os.path.relpath(file_path, sumber_folder)\n",
        "                # Menambahkan file ke dalam zip\n",
        "                zipf.write(file_path, arcname=rel_path)"
      ],
      "metadata": {
        "id": "iegw3Dk9hvV4"
      },
      "execution_count": null,
      "outputs": []
    },
    {
      "cell_type": "code",
      "source": [
        "def terjemahkan_dan_simpan(nama_file_input, nama_file_output):\n",
        "  # Membaca teks dari file\n",
        "  with open(nama_file_input, 'r', encoding='utf-8') as file:\n",
        "      hasil_baca = file.readlines()\n",
        "\n",
        "  # Inisialisasi array untuk menyimpan hasil terjemahan\n",
        "  terjemahan_array = []\n",
        "\n",
        "  # Memproses setiap baris\n",
        "  for baris in tqdm(hasil_baca, desc=\"Translating\"):\n",
        "      # Memisahkan teks bahasa Jepang dan bahasa Inggris\n",
        "      try:\n",
        "        bahasa_jepang, bahasa_inggris = baris.strip().split('=')\n",
        "      except Exception as e:\n",
        "        print(f\"Skip Baris:{baris.strip}\")\n",
        "        terjemahan_array.append(baris.strip())\n",
        "        continue\n",
        "\n",
        "\n",
        "\n",
        "      # Menerjemahkan hanya bahasa Inggris\n",
        "      try:\n",
        "        terjemahan_inggris = translator.translate(bahasa_inggris, src='en', dest='id').text\n",
        "      except Exception as e:\n",
        "        print(f\"\\nBaris error: {bahasa_inggris}\\nscript: {e}\")\n",
        "        terjemahan_inggris = bahasa_inggris\n",
        "\n",
        "\n",
        "\n",
        "      # Menggabungkan kembali teks bahasa Jepang dan terjemahan bahasa Inggris\n",
        "      hasil_terjemahan = f'{bahasa_jepang}={terjemahan_inggris}'\n",
        "\n",
        "      # Menambahkan hasil terjemahan ke dalam array\n",
        "      terjemahan_array.append(hasil_terjemahan)\n",
        "\n",
        "  # Menyimpan terjemahan ke dalam file\n",
        "  with open(nama_file_output, 'w', encoding='utf-8') as file:\n",
        "    for terjemahan in terjemahan_array:\n",
        "      file.write(terjemahan + '\\n')"
      ],
      "metadata": {
        "id": "GHu4Nexrl511"
      },
      "execution_count": null,
      "outputs": []
    },
    {
      "cell_type": "code",
      "source": [
        "def terjemahkan_folder(nama_folder, hasil_folder):\n",
        "    if not os.path.exists(hasil_folder):\n",
        "      os.makedirs(hasil_folder)\n",
        "    for root, dirs, files in os.walk(nama_folder):\n",
        "        for file in files:\n",
        "            if file == 'translation.txt':\n",
        "                # Membuat subfolder sesuai dengan struktur di nama_folder\n",
        "                subfolder = os.path.relpath(root, nama_folder)\n",
        "                output_folder = os.path.join(hasil_folder, subfolder)\n",
        "\n",
        "                # Memastikan subfolder tujuan ada atau membuatnya jika belum ada\n",
        "                if not os.path.exists(output_folder):\n",
        "                    os.makedirs(output_folder)\n",
        "\n",
        "                path_file = os.path.join(root, file)\n",
        "                output_file = os.path.join(output_folder, 'translation.txt')  # Nama file output\n",
        "\n",
        "                try:\n",
        "                    terjemahkan_dan_simpan(path_file, output_file)\n",
        "                except Exception as e:\n",
        "                    print(f\"Terjadi kesalahan pada file {path_file}: {e}\")\n",
        "                    continue  # Melanjutkan ke file berikutnya"
      ],
      "metadata": {
        "id": "t7SoeXBLvuys"
      },
      "execution_count": null,
      "outputs": []
    },
    {
      "cell_type": "code",
      "source": [
        "def menerjemahkan_zip(file_zip,hasil_zip):\n",
        "  # Contoh pemanggilan fungsi\n",
        "  hapus_folder('/content/mentah')\n",
        "  hapus_folder('/content/terjemahan')\n",
        "\n",
        "  # Contoh pemanggilan fungsi\n",
        "  ekstrak_zip(file_zip, '/content/mentah')\n",
        "\n",
        "  # Menerjemahkan file translte di dalam sub folder\n",
        "  terjemahkan_folder('/content/mentah','/content/terjemahan')\n",
        "\n",
        "  # MengZip File\n",
        "  zip_folder('/content/terjemahan', hasil_zip)"
      ],
      "metadata": {
        "id": "DjKUIur28epY"
      },
      "execution_count": null,
      "outputs": []
    },
    {
      "cell_type": "code",
      "source": [
        "# Memanggil fungsi terjemahkan_dan_simpan\n",
        "terjemahkan_dan_simpan('tes.txt', 'hasil_tes.txt')"
      ],
      "metadata": {
        "id": "tEgcHxFgkys8"
      },
      "execution_count": null,
      "outputs": []
    },
    {
      "cell_type": "code",
      "source": [
        "menerjemahkan_zip('/content/belum.zip','hasil_terjemahan.zip')"
      ],
      "metadata": {
        "id": "jsOHOXQS2vQj"
      },
      "execution_count": null,
      "outputs": []
    },
    {
      "cell_type": "code",
      "source": [
        "  # Menerjemahkan file translte di dalam sub folder\n",
        "  terjemahkan_folder('/content/mentah','/content/terjemahan')"
      ],
      "metadata": {
        "id": "l1bgj2qqtiLQ"
      },
      "execution_count": null,
      "outputs": []
    },
    {
      "cell_type": "code",
      "source": [
        "ekstrak_zip('/content/percobaan.zip', '/content/mentah')"
      ],
      "metadata": {
        "id": "mY7PSQVFvEpt"
      },
      "execution_count": null,
      "outputs": []
    },
    {
      "cell_type": "code",
      "source": [
        "zip_folder('/content/terjemahan', 'hasil.zip')"
      ],
      "metadata": {
        "id": "AO_hxSZjvLLS"
      },
      "execution_count": null,
      "outputs": []
    }
  ]
}